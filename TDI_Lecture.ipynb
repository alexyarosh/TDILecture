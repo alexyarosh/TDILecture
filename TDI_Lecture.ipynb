{
 "cells": [
  {
   "cell_type": "markdown",
   "metadata": {},
   "source": [
    "# Significance and hypothesis testing\n",
    "\n",
    "By a _hypothesis_ we will usually mean assumption about a parameter (e.g. \"the mean is 5\", or \"two means are equal\")\n",
    "\n",
    "_Null hypothesis_, $H_0$ -- no effect, purely by chance, uninteresting\n",
    "\n",
    "_Alternative hypothesis_, $H_A$ -- something's happening, interesting, noticeable effect\n",
    "\n",
    "But not necessarily!\n",
    "\n",
    "##### Examples\n",
    "1. $H_0:$ treatement doesn't make a difference, $H_A:$ = tratement makes a difference\n",
    "2. $H_0$: $\\theta = \\widehat{\\theta}$, $H_A:\\theta \\neq \\widehat{\\theta} $  for some parameter $\\theta$\n",
    "3. $H_0:$ there is no difference in school performance between boys and girls, $H_A:$ boys perform better in school than girls\n",
    "4. $H_0:$ data is sampled from the standard normal distribution, $H_A:$ data is not sampled from a standard normal distribution\n",
    "\n",
    "### Glossary\n",
    "_Hypothesis testing_ is a process that determins the criteria for ***rejecting $H_0$***. The negative result in this process is **_failing to reject_** $H_0$ (not \"accepting\")\n",
    "\n",
    "\n",
    "_Test statistic_ is any quantity that can be computed using only the data, e.g., sample mean. It is usually used to make inferences about parameters of the model.\n",
    "\n",
    "Test statistic determines the _rejection region_ : if the data falls into the rejection region (e.g. makes the statistics is too small or too big), then $H_0$ is rejected.\n",
    "\n",
    "_Significance level_ $\\alpha$ is the maximal (across parameter values) probability of rejecting $H_0$ provided that $H_0$ is true. This is inherent to the model, independent of the data. We set the acceptable significancle level ourselves. Significans level determines the rejection region.\n"
   ]
  },
  {
   "cell_type": "markdown",
   "metadata": {},
   "source": [
    "### Type I and Type II errors \n",
    "\n",
    "  | $H_0$ is true     |$H_0$ is false|\n",
    "--| --------- | ----------- |\n",
    "do not reject $H_0$ | 👍 | Type I error (false negative) |\n",
    "reject $H_0$ | Type II error (false positive) |👍        |\n",
    "\n",
    "Notice: \"negative\" corresponds to *failing to reject*.\n",
    "\n"
   ]
  },
  {
   "cell_type": "markdown",
   "metadata": {},
   "source": [
    "## $p$-value\n",
    "\n",
    "Informally, the $p$-value is the probability of observing the test statistic at least as extreme as what was actually observed.\n",
    "\n",
    "More formally, assume that the null hypothesis is of the form \"$H_0: \\theta \\in \\Theta_0$, where $\\theta$ is a parameter of the model, and $\\Theta_0$ is the set of possible values of $\\theta$. Let $T(x)$ denote the test statistics, and assume the rejection criterion is of the form \"reject $H_0$ if $T(x) > c$\", for some fixed critical value of $c$.\n",
    "\n",
    "With this setup, and denoting by $X$ the observed value of $x$, \n",
    "\n",
    "$$p := \\sup\\limits{\\theta \\in \\Theta_0}P_{\\theta}(T(x) > T(X))$$\n",
    "\n",
    "(here by $P_{theta}$ we mean probability with the parameter value fixed to be $\\theta$)\n",
    "\n",
    "Hopefully examples with particular test staistics will clarify this definition.\n"
   ]
  },
  {
   "cell_type": "markdown",
   "metadata": {},
   "source": [
    "## Warnings\n",
    "\n",
    "1. $p$-value is _not_ the probability that the null hypothesis is true\n",
    "2. $p$-value is _not_ the probability that the null hypothesis is true, given data ($P(H|D)$)\n",
    "3. $p$-value is related to (but not equal to) the probability that we observe the data provided that the hypothesis is true ($P(D|H)$)\n",
    "2. We cannot _accept_ the null hypothesis, just fail to reject it\n",
    "3. Large $p$ value is not evidence in favor of $H_0$"
   ]
  },
  {
   "cell_type": "markdown",
   "metadata": {},
   "source": [
    "## Test statistics"
   ]
  },
  {
   "cell_type": "markdown",
   "metadata": {},
   "source": [
    "### $z$-test\n",
    "\n",
    "Used when:\n",
    "- we have a sample from a _normal distribution_ ...\n",
    "- ... with a _known variance_...\n",
    "- WANT:  point estimation of the mean\n",
    "\n",
    "Assume $x_1, \\dots, x_n \\sim \\mathcal{N(\\mu, \\sigma)}$, $\\sigma$ - known.\n",
    "\n",
    "The hypotheses are as follows: $H_0: \\mu = \\mu_0$, $H_0: \\mu \\neq \\mu_0$ (i.e. we ask \"does the mean equal to 5?\")\n",
    "\n",
    "Consider the normalized sample mean:\n",
    "$$\\hat{z} = \\frac{\\bar{x} - \\mu_0}{\\sigma/\\sqrt{n}}$$\n",
    "\n",
    "Under assumption of $H_0$, $\\hat{z} \\sim \\mathcal{N}(0,1)$. This is called the **_$z$-statistic_**.\n",
    "\n",
    "To perform the test, we compute the $p$-values as \"just as extreme or more\":\n",
    "\n",
    "$$ p = P(z>\\hat{z}) $$\n",
    "\n",
    "where $z$ follows standard normal distribution.\n",
    "\n",
    "If $p$ is less than the significance level we set for the test, we reject the null hypothesis (and we claim $\\mu \\neq \\mu_0$).\n"
   ]
  },
  {
   "cell_type": "markdown",
   "metadata": {},
   "source": [
    "### $t$-test\n",
    "\n",
    "Used when:\n",
    "- we have a sample from a _normal distribution_ ...\n",
    "- ... with _unknown mean and variance_\n",
    "- WANT: point estimation of the mean\n",
    "\n",
    "OR\n",
    "- we have two samples from two different _normal distributions_ ...\n",
    "- ... with _unknown means and variances_\n",
    "- samples are either independent\n",
    "- WANT: determine whether the means are equal\n",
    "\n",
    "##### One-sample $t-test$:\n",
    "\n",
    "Assume $x_1, \\dots, x_n \\sim \\mathcal{N(\\mu, \\sigma)}$, $\\mu$,$\\sigma$ - unknown.\n",
    "\n",
    "The hypotheses are as follows: $H_0: \\mu = \\mu_0$, $H_0: \\mu \\neq \\mu_0$, just as in $z$-test\n",
    "\n",
    "Consider the following quantity:\n",
    "$$\\hat{t} = \\frac{\\bar{x} - \\mu_0}{s_X/\\sqrt{n}}$$\n",
    "\n",
    "where $s_X^2 = \\frac{1}{n-1}\\sum (x_i-\\bar{x})^2$ -- the (corrected) sample variance. This is the ***$t$-statistic***.\n",
    "\n",
    "Under $H_0$, the numenator follows a normal distribution, and the denominator follows the $\\chi^2$-distribution. The entire statistic $\\hat{t} \\sim t_{n-1}$, the Student's $t$-distribution with $n-1$ degrees of freedom.\n",
    "\n",
    "To perform the test, we compute the $p$ -values as \"just as extreme or more\":\n",
    "$$ p = P(t>\\hat{t}) $$\n",
    "\n",
    "where $t$ follows the $t$-distribution with $n-1$ degrees of freedom.\n",
    "\n",
    "##### **Two-sample $t$-test**\n",
    "\n",
    "\n",
    "Assume $x_1, \\dots, x_n \\sim \\mathcal{N(\\mu_1, \\sigma_1)}$, $\\mu_1$,$\\sigma_1$, $y_1, \\dots, y_m \\sim \\mathcal{N(\\mu_1, \\sigma_1)}$, $\\mu_2$,$\\sigma_2$, are two _independent_ samples, possibly of different length.\n",
    "\n",
    "The hypotheses are as follows: $H_0: \\mu_1 = \\mu_2$, $H_0: \\mu_1 \\neq \\mu_2$\n",
    "\n",
    "Consider the following quantity:\n",
    "$$\\hat{t} = \\frac{\\mu_1 - \\mu_2}{s_p/\\sqrt{n}}$$\n",
    "\n",
    "where $s_p^2 = \\frac{s_X^2}{n} + \\frac{s_Y^2}{m}$, where $s_X$ and $s_Y$ are the (corrected) variances of $x_1, \\dots, x_n$ and $y_1, \\dots, y_m$.\n",
    "\n",
    "In this case, $\\hat{t}$ again follows the $t$-distribution."
   ]
  },
  {
   "cell_type": "markdown",
   "metadata": {},
   "source": [
    "## Real data example: comparing student performance in mathematics\n",
    "\n",
    "Using [data on student performance in mathematics](https://archive.ics.uci.edu/ml/datasets/student+performance). The datasets includes performaces of 395 students over the course of 1 year, with 3 assesments taken during the year (labelled G1, G2, G3).\n",
    "\n",
    "**Question:** Is there a significant difference in mathematics performance between male anf female high school students?\n",
    "\n",
    "Set up as hypothesis test comparing the mean score among female students $\\mu_F$ to the mean among male students $\\mu_M$\n",
    "\n",
    "$H_0: \\mu_F = \\mu_M$\n",
    "\n",
    "$H_A: \\mu_F \\neq \\mu_M$\n",
    "\n",
    "This is the setup for the $t$-test!\n",
    "\n",
    "Recall: $t$-test require normality. So first let's do a quick & dirty \"check\" for normality using histograms:"
   ]
  },
  {
   "cell_type": "code",
   "execution_count": 1,
   "metadata": {},
   "outputs": [
    {
     "name": "stdout",
     "output_type": "stream",
     "text": [
      "Female performace:\n",
      "               G1          G2          G3\n",
      "count  208.000000  208.000000  208.000000\n",
      "mean    10.620192   10.389423    9.966346\n",
      "std      3.232530    3.641851    4.622338\n",
      "min      4.000000    0.000000    0.000000\n",
      "25%      8.000000    8.000000    8.000000\n",
      "50%     10.000000   10.000000   10.000000\n",
      "75%     13.000000   13.000000   13.000000\n",
      "max     19.000000   18.000000   19.000000\n",
      "\n",
      "Male math  performace:\n",
      "               G1          G2          G3\n",
      "count  187.000000  187.000000  187.000000\n",
      "mean    11.229947   11.074866   10.914439\n",
      "std      3.392839    3.868088    4.495297\n",
      "min      3.000000    0.000000    0.000000\n",
      "25%      9.000000    9.000000    9.000000\n",
      "50%     11.000000   11.000000   11.000000\n",
      "75%     14.000000   14.000000   14.000000\n",
      "max     19.000000   19.000000   20.000000\n"
     ]
    },
    {
     "data": {
      "image/png": "[encoded data removed]",
      "text/plain": [
       "<matplotlib.figure.Figure at 0x25a503c0fd0>"
      ]
     },
     "metadata": {},
     "output_type": "display_data"
    },
    {
     "data": {
      "image/png": "[encoded data removed]",
      "text/plain": [
       "<matplotlib.figure.Figure at 0x25a50363588>"
      ]
     },
     "metadata": {},
     "output_type": "display_data"
    }
   ],
   "source": [
    "%matplotlib inline\n",
    "import numpy as np\n",
    "import pandas as pd\n",
    "import matplotlib.pyplot as plt\n",
    "from scipy import stats\n",
    "\n",
    "df = pd.read_csv(\"student-mat.csv\", sep=\";\")\n",
    "df_female = df[df[\"sex\"]==\"F\"]\n",
    "df_male = df[df[\"sex\"]==\"M\"]\n",
    "\n",
    "print(\"Female performace:\")\n",
    "print(df_female[[\"G1\", \"G2\", \"G3\"]].describe())\n",
    "\n",
    "print(\"\\nMale math  performace:\")\n",
    "print(df_male[[\"G1\", \"G2\", \"G3\"]].describe())\n",
    "\n",
    "df_female[[\"G1\", \"G2\", \"G3\"]].plot(subplots=True, kind=\"hist\", figsize=(12,3), layout=(1,3), title=\"Female math performance\")\n",
    "df_male[[\"G1\", \"G2\", \"G3\"]].plot(subplots=True, kind=\"hist\", figsize=(12,3),layout=(1,3), title=\"Male math performance\")\n",
    "\n",
    "\n",
    "plt.show()"
   ]
  },
  {
   "cell_type": "markdown",
   "metadata": {},
   "source": [
    "Looks normal -- except possibly in the case of the third assessment (due to frequent 0 results on tests).\n",
    "\n",
    "Note that this isn't a goodness-of-fit check for normality -- just a visual confirmation. \n",
    "\n",
    "The $t$-test is not hard to implement based on the formulas we've seen, but it is already implemented in `scipy.stats` as `ttest_ind`, the $t$-statistic, and the $p$-value."
   ]
  },
  {
   "cell_type": "code",
   "execution_count": 2,
   "metadata": {},
   "outputs": [
    {
     "name": "stdout",
     "output_type": "stream",
     "text": [
      "G1: p= 0.0689810640233\n",
      "G2: p= 0.071437672784\n",
      "G3: p= 0.0395770030309\n"
     ]
    }
   ],
   "source": [
    "print(\"G1: p=\",stats.ttest_ind(df_female[\"G1\"], df_male[\"G1\"], equal_var = False).pvalue)\n",
    "print(\"G2: p=\",stats.ttest_ind(df_female[\"G2\"], df_male[\"G2\"], equal_var = False).pvalue)\n",
    "print(\"G3: p=\",stats.ttest_ind(df_female[\"G3\"], df_male[\"G3\"], equal_var = False).pvalue)"
   ]
  },
  {
   "cell_type": "markdown",
   "metadata": {},
   "source": [
    "If the significance level is set to $\\alpha = 0.05$, this means that we **cannot conclude** that average performace of female vs male performace on math tests are significantly different for the first two evaluations (i.e. we cannot reject the null hypothesis). \n"
   ]
  },
  {
   "cell_type": "markdown",
   "metadata": {},
   "source": [
    "# Bayesian inference"
   ]
  },
  {
   "cell_type": "markdown",
   "metadata": {},
   "source": [
    "## Bayes's theorem\n",
    "\n",
    "**Bayes's theorem** is a mathematically trivial statement with far-reaching consequences:\n",
    "\n",
    "$$\\boxed{P(B\\,|\\,A) = \\frac{P(A\\,|\\,B)\\,P(B)}{P(A)}}$$\n",
    "\n",
    "where $A,B$ are events, $P(A \\,|\\, B)$ is conditional probability of $A$, given $B$.\n",
    "\n",
    "(It is trivial by definition of conditional probability: $P(A\\,|\\,B) = \\frac{P(A\\cap B)}{P(B)}$)\n",
    "\n",
    "Parameter estimation:\n",
    "\n",
    "$$\\overbrace{P(\\theta\\,|\\, X)}^{posterior} = \\frac{\\overbrace{P(X\\,|\\,\\theta)}^{likelihood}\\, \\overbrace{P(\\theta)}^{prior}}{P(X)} = \\frac{P(X\\, |\\,\\theta) \\, P(\\theta)}{\\int_{\\theta} P(X\\, |\\,\\theta) \\, P(\\theta) \\,d\\theta}$$\n"
   ]
  },
  {
   "cell_type": "markdown",
   "metadata": {},
   "source": [
    "## Comparison\n",
    "\n",
    "  | Significance testing     | Bayessian inference|\n",
    "--| ----------- | ----------- |\n",
    " probability | limiting frequency      | degree of belief |\n",
    "parameter | fixed   | random        |\n",
    "data | random |random\n",
    "\n",
    "\n",
    "Compare: \"95% confidence interval\":\n",
    "> \"if we keep  doing sampling over and over again, the estimated parameter value will fall within the interval 95% of the time\" \n",
    "\n",
    "vs\n",
    "\n",
    "> \"probability that the parameter value is withing the interval is 95%\""
   ]
  },
  {
   "cell_type": "markdown",
   "metadata": {},
   "source": [
    "## Some issues\n",
    "\n",
    "- priors are subjective\n",
    "- computationally intensive (e.g. $\\int_{\\theta} p(X\\, |\\,\\theta) \\, p(\\theta) \\,d\\theta$)\n"
   ]
  },
  {
   "cell_type": "markdown",
   "metadata": {},
   "source": [
    "## Sampling from posterior"
   ]
  },
  {
   "cell_type": "markdown",
   "metadata": {},
   "source": [
    "Usually analytically intractable. Special case -- conjugate priors, otherwise -- simulation."
   ]
  },
  {
   "cell_type": "markdown",
   "metadata": {},
   "source": [
    "## Conjugate priors\n",
    "\n",
    "Conjugate priors give an analystic form of the posterior density.\n",
    "\n",
    "The prior $p(\\theta)$ is **conjugate** to the likelihood function $p(X|\\,\\theta)$ if the posterior $p(\\theta\\,|\\,X)$ is of the same family as prior $p(\\theta)$\n",
    "\n",
    "##### Examples:\n",
    "\n",
    "- Normal distribution is self-conjugate, i.e. if the likelihood and posterior are both normal (with at least one parameter known), then the posterior is as well\n",
    "- Beta distribution is conjugate to binomial, i.e. if the likelihood is binomial, and the prior has Beta distribution, then posterior has Beta distribution as well.\n",
    "- any distribution from the exponential family (e.g. with pdf of the form $f(x; \\theta) = h(x)g(\\theta)e^{\\eta(\\theta)T(x)}$) has a conjugate prior\n",
    "***\n",
    "##### Exercise: \n",
    "Show that the Gamma distribution is conjugate to the exponential ditribution.\n",
    "\n",
    "###### Solution: \n",
    "Assume $p(x\\,|\\theta) = \\theta e^{-x\\theta}$. If the data consists of $n$ i.i.d. samples, i.e. $X = \\{x_1\\, \\dots, x_n\\}$, then $p(X\\,|\\,\\theta) = \\prod_{i=1}^n p(x_i\\,|\\,\\theta) = \\theta^n\\exp{\\left\\{-\\theta \\sum x_i\\right\\}}$.\n",
    "\n",
    "Next, assume that $p(\\theta) \\sim Gamma(\\alpha, \\beta)$, i.e. $p(\\theta) = \\frac{\\beta^\\alpha}{\\Gamma(\\alpha)} \\theta^{\\alpha -1} \\exp{\\left\\{-\\beta\\theta\\right\\}}$ for some (hyper)parameters $\\alpha$ and $\\beta$.\n",
    "\n",
    "Then  \n",
    "$$\\int_{\\theta} p(X\\, |\\,\\theta) \\, p(\\theta) \\,d\\theta = \\frac{\\beta}{\\Gamma(\\alpha)}\\int_0^{\\infty} \\theta^{(\\alpha + n)-1} \\exp{\\left\\{-(\\beta+\\sum x_i)\\,\\theta\\right\\}}\\, d\\theta = \\frac{\\beta}{\\Gamma(\\alpha)} \\frac{\\Gamma(\\alpha + n)}{\\beta + \\sum x_i}$$\n",
    "by change of variables and the definition of the Gamma function.\n",
    "\n",
    "So the posterior distribution is $$p(\\theta|X) = \\frac{p(X\\,|\\,\\theta)p(\\theta)}{\\int_{\\theta} p(X\\, |\\,\\theta) \\, p(\\theta) \\,d\\theta } = \\frac{\\beta + \\sum x_i}{\\Gamma(\\alpha + n)} \\theta^{\\alpha +n -1} \\exp{\\left\\{-(\\beta+\\sum x_i)\\theta\\right\\}},$$\n",
    "i.e.  $p(\\theta|X) \\sim Gamma(\\alpha -n, \\beta + \\sum x_i).$\n",
    "***\n",
    "This can be used to *update priors*.\n",
    "\n"
   ]
  },
  {
   "cell_type": "markdown",
   "metadata": {},
   "source": [
    "## Markov Chain Monte Carlo sampling\n",
    "\n",
    "MCMC is a family of algorithms for sampling from an unknown density function $\\pi(x)$. It constructs a *Markov chain* whose stationary distribution is the target distribution. We will only consider one algorithm if the MCMC family -- **Metropolis-Hastings**\n",
    "\n",
    "### Metropolis-Hastings sampling\n",
    "\n",
    "We require that there is a (known) function $f(x)$ that is proportional to the density $\\pi(x)$ (this is where we avoid all those integrals...). We also want to have a *proposal density* $q(x|y)$ from which we know how to sample.\n",
    "\n",
    "#### Algorithm:\n",
    "0. `Choose` a random starting point $X_0$\n",
    "1. `iterate` until $t=$desired sample size:\n",
    "  * `sample` a candidate $X^*$ from $q(X|X_{t})$\n",
    "  * `compute` $Q = \\frac{q(X^*|X_{t})}{q(X_{t}|X^*)}$ (correction for asymmetry)\n",
    "  * `compute` $A = min\\left(1, \\frac{f(X^*)}{f(X_t)}\\cdot Q\\right)$ (acceptance probability)\n",
    "  * `sample` $u$ from the uniform distribution on $[0,1]$:\n",
    "     1. if $u<A$: set $X_{t+1} = X^*$\n",
    "     2. if $u\\geq A$: set $X_{t+1} = X_t$ \n",
    "  * $t = t+1$ \n",
    " \n",
    "Notice that because of the proportionality assumption,  $\\frac{f(x)}{f(y)} = \\frac{P(x)}{P(y)} = \\frac{P(y|x)}{P(x|y)}$.\n",
    "The random walk $X_t$ spends more time in more \"probable\" places. At each step it decided if the probability of going from the current point to the candidate point is greater than the probability of going back (or the ratio is greater than 1). If so, we always accept the candidate value. If not, we accept the candidate value with probability $A$.\n",
    "\n",
    "## Implementation \n",
    "\n",
    "`PyMC3` is a Python package containing, in particular, the Metropolis-Hastings algorithm, but it's easy to implement the algorithm from scratch. Let's sample from the gamma posterior with exponential likelihood and gamma prior.\n"
   ]
  },
  {
   "cell_type": "code",
   "execution_count": 3,
   "metadata": {},
   "outputs": [
    {
     "data": {
      "image/png": "[encoded data removed]",
      "text/plain": [
       "<matplotlib.figure.Figure at 0x25a4ca69400>"
      ]
     },
     "metadata": {},
     "output_type": "display_data"
    }
   ],
   "source": [
    "import math\n",
    "n=10\n",
    "lambd=7\n",
    "p = 0.3\n",
    "N = 20\n",
    "data = np.random.exponential(lambd, n)\n",
    "alpha = n-1\n",
    "beta = np.sum(data)\n",
    "mean = np.mean(data)\n",
    "sigma = 0.3\n",
    "\n",
    "\n",
    "\n",
    "def target(x):\n",
    "    times = 1\n",
    "    for s in data:\n",
    "        times = stats.expon(x).pdf(s)\n",
    "    return times*stats.gamma.pdf(x, a=alpha, scale=1/beta)\n",
    "\n",
    "\n",
    "def metropolis_mcmc(sample_size):\n",
    "    sample = []\n",
    "    t = 0\n",
    "    x = np.random.random()\n",
    "    sample.append(x)\n",
    "    while t <= sample_size:\n",
    "        candidate = x + stats.norm(0, sigma).rvs()\n",
    "        if candidate > 0: #gamma distribution is non-negative\n",
    "            accept = np.minimum(1.0, target(candidate)/target(x))\n",
    "            u = np.random.uniform()\n",
    "            if u < accept:\n",
    "                sample.append(candidate)\n",
    "                x= candidate              \n",
    "            else:\n",
    "                sample.append(x)\n",
    "            t+=1     \n",
    "            \n",
    "    return sample\n",
    "sims = metropolis_mcmc(5000)    \n",
    "plt.hist(sims, density=True)\n",
    "plt.plot(np.arange(0,1.5, 0.05),stats.gamma.pdf(np.arange(0,1.5, 0.05), a=alpha+n,scale=1/(beta + n*mean)))\n",
    "plt.show()\n"
   ]
  }
 ],
 "metadata": {
  "kernelspec": {
   "display_name": "Python 3",
   "language": "python",
   "name": "python3"
  },
  "language_info": {
   "codemirror_mode": {
    "name": "ipython",
    "version": 3
   },
   "file_extension": ".py",
   "mimetype": "text/x-python",
   "name": "python",
   "nbconvert_exporter": "python",
   "pygments_lexer": "ipython3",
   "version": "3.6.3"
  }
 },
 "nbformat": 4,
 "nbformat_minor": 2
}
